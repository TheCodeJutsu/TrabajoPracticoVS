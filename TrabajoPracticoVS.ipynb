{
  "nbformat": 4,
  "nbformat_minor": 0,
  "metadata": {
    "colab": {
      "provenance": [],
      "authorship_tag": "ABX9TyMoiVzQIHVv8MNJWZQ7ZtMz",
      "include_colab_link": true
    },
    "kernelspec": {
      "name": "python3",
      "display_name": "Python 3"
    },
    "language_info": {
      "name": "python"
    },
    "accelerator": "GPU",
    "gpuClass": "standard"
  },
  "cells": [
    {
      "cell_type": "markdown",
      "metadata": {
        "id": "view-in-github",
        "colab_type": "text"
      },
      "source": [
        "<a href=\"https://colab.research.google.com/github/TheCodeJutsu/TrabajoPracticoVS/blob/main/TrabajoPracticoVS.ipynb\" target=\"_parent\"><img src=\"https://colab.research.google.com/assets/colab-badge.svg\" alt=\"Open In Colab\"/></a>"
      ]
    },
    {
      "cell_type": "markdown",
      "source": [
        "#Trabajo Práctico\n",
        "\n",
        "Asignatura: Visualización de Datos\n",
        "\n",
        "Enlace: https://js-yfhakw.stackblitz.io/ \n",
        "\n",
        "MBID"
      ],
      "metadata": {
        "id": "nMpL8aQNxhCr"
      }
    },
    {
      "cell_type": "markdown",
      "source": [
        "# Instalación de librerías\n",
        "\n",
        "En este caso se tuvo que actualizar la versión de matploit para la impresión de las etiquetas del gráfico de barras"
      ],
      "metadata": {
        "id": "QNbVmvYDqVdG"
      }
    },
    {
      "cell_type": "code",
      "source": [
        "#!pip install matplotlib --upgrade"
      ],
      "metadata": {
        "id": "ao8wOCWNHTQd",
        "colab": {
          "base_uri": "https://localhost:8080/",
          "height": 524
        },
        "outputId": "c5102881-4eb3-4e31-846f-d4fa456415db"
      },
      "execution_count": 2,
      "outputs": [
        {
          "output_type": "stream",
          "name": "stdout",
          "text": [
            "Looking in indexes: https://pypi.org/simple, https://us-python.pkg.dev/colab-wheels/public/simple/\n",
            "Requirement already satisfied: matplotlib in /usr/local/lib/python3.7/dist-packages (3.2.2)\n",
            "Collecting matplotlib\n",
            "  Downloading matplotlib-3.5.3-cp37-cp37m-manylinux_2_5_x86_64.manylinux1_x86_64.whl (11.2 MB)\n",
            "\u001b[K     |████████████████████████████████| 11.2 MB 485 kB/s \n",
            "\u001b[?25hRequirement already satisfied: python-dateutil>=2.7 in /usr/local/lib/python3.7/dist-packages (from matplotlib) (2.8.2)\n",
            "Requirement already satisfied: pillow>=6.2.0 in /usr/local/lib/python3.7/dist-packages (from matplotlib) (7.1.2)\n",
            "Requirement already satisfied: cycler>=0.10 in /usr/local/lib/python3.7/dist-packages (from matplotlib) (0.11.0)\n",
            "Requirement already satisfied: packaging>=20.0 in /usr/local/lib/python3.7/dist-packages (from matplotlib) (21.3)\n",
            "Requirement already satisfied: numpy>=1.17 in /usr/local/lib/python3.7/dist-packages (from matplotlib) (1.21.6)\n",
            "Requirement already satisfied: kiwisolver>=1.0.1 in /usr/local/lib/python3.7/dist-packages (from matplotlib) (1.4.4)\n",
            "Requirement already satisfied: pyparsing>=2.2.1 in /usr/local/lib/python3.7/dist-packages (from matplotlib) (3.0.9)\n",
            "Collecting fonttools>=4.22.0\n",
            "  Downloading fonttools-4.38.0-py3-none-any.whl (965 kB)\n",
            "\u001b[K     |████████████████████████████████| 965 kB 45.0 MB/s \n",
            "\u001b[?25hRequirement already satisfied: typing-extensions in /usr/local/lib/python3.7/dist-packages (from kiwisolver>=1.0.1->matplotlib) (4.1.1)\n",
            "Requirement already satisfied: six>=1.5 in /usr/local/lib/python3.7/dist-packages (from python-dateutil>=2.7->matplotlib) (1.15.0)\n",
            "Installing collected packages: fonttools, matplotlib\n",
            "  Attempting uninstall: matplotlib\n",
            "    Found existing installation: matplotlib 3.2.2\n",
            "    Uninstalling matplotlib-3.2.2:\n",
            "      Successfully uninstalled matplotlib-3.2.2\n",
            "Successfully installed fonttools-4.38.0 matplotlib-3.5.3\n"
          ]
        },
        {
          "output_type": "display_data",
          "data": {
            "application/vnd.colab-display-data+json": {
              "pip_warning": {
                "packages": [
                  "matplotlib",
                  "mpl_toolkits"
                ]
              }
            }
          },
          "metadata": {}
        }
      ]
    },
    {
      "cell_type": "markdown",
      "source": [
        "# Inserción de librerías"
      ],
      "metadata": {
        "id": "E3XdBlmGqp9U"
      }
    },
    {
      "cell_type": "code",
      "source": [
        "import pandas as pd\n",
        "import io\n",
        "import requests\n",
        "import seaborn as sns\n",
        "import timeit\n",
        "import matplotlib.pyplot as plt\n",
        "from google.colab import drive"
      ],
      "metadata": {
        "id": "GYrGLTOe0R8f"
      },
      "execution_count": 1,
      "outputs": []
    },
    {
      "cell_type": "markdown",
      "source": [
        "# Operación de Montaje \n",
        "\n",
        "El dataset propuesto se cargó de manera local a través del Drive asociado a la cuenta"
      ],
      "metadata": {
        "id": "caVLT8tQqyCd"
      }
    },
    {
      "cell_type": "code",
      "execution_count": 2,
      "metadata": {
        "colab": {
          "base_uri": "https://localhost:8080/"
        },
        "id": "a4WDyTmfxUnn",
        "outputId": "4a621031-aef5-4156-a7f3-139f9ae09c91"
      },
      "outputs": [
        {
          "output_type": "stream",
          "name": "stdout",
          "text": [
            "Drive already mounted at /content/drive/; to attempt to forcibly remount, call drive.mount(\"/content/drive/\", force_remount=True).\n"
          ]
        }
      ],
      "source": [
        "drive.mount('/content/drive/')"
      ]
    },
    {
      "cell_type": "markdown",
      "source": [
        "# Carga del DataSet"
      ],
      "metadata": {
        "id": "FNOBLn8dq-nx"
      }
    },
    {
      "cell_type": "code",
      "source": [
        "# Importar la librería necesaria para cargar el archivo \n",
        "import pandas as pd\n",
        "# Definir data, con el fin de almacenar el dataframe a preprocesar\n",
        "prodata = pd.read_csv('/content/drive/MyDrive/dataset/ProDataset.csv', sep=',')"
      ],
      "metadata": {
        "id": "LMvi5p7qyemg"
      },
      "execution_count": 3,
      "outputs": []
    },
    {
      "cell_type": "markdown",
      "source": [
        "# Muestra del Dartaset\n"
      ],
      "metadata": {
        "id": "aHaHKFNyrBjt"
      }
    },
    {
      "cell_type": "code",
      "source": [
        "prodata.head()"
      ],
      "metadata": {
        "colab": {
          "base_uri": "https://localhost:8080/",
          "height": 287
        },
        "id": "QycmMp0v0Hlf",
        "outputId": "f0813ee2-bec2-441d-e702-9edc00220456"
      },
      "execution_count": 4,
      "outputs": [
        {
          "output_type": "execute_result",
          "data": {
            "text/plain": [
              "   Unnamed: 0 cultivo grupo_cultivo subgrupo_cultivo  \\\n",
              "0           0  ACELGA    HORTALIZAS           ACELGA   \n",
              "1           1  ACELGA    HORTALIZAS           ACELGA   \n",
              "2           2  ACELGA    HORTALIZAS           ACELGA   \n",
              "3           3  ACELGA    HORTALIZAS           ACELGA   \n",
              "4           4  ACELGA    HORTALIZAS           ACELGA   \n",
              "\n",
              "  desagregacion_regional_yo_sistema_productivo ciclo_cultivo  anio  \\\n",
              "0                                       ACELGA   TRANSITORIO  2006   \n",
              "1                                       ACELGA   TRANSITORIO  2006   \n",
              "2                                       ACELGA   TRANSITORIO  2006   \n",
              "3                                       ACELGA   TRANSITORIO  2006   \n",
              "4                                       ACELGA   TRANSITORIO  2006   \n",
              "\n",
              "   area_sembrada(ha)  area_cosechada(ha)  produccion(t)  \\\n",
              "0                2.0                 1.0       1.000000   \n",
              "1               82.0                80.0     181.962057   \n",
              "2                2.0                 2.0      26.000000   \n",
              "3                3.0                 3.0      48.000000   \n",
              "4                1.0                 1.0       5.000000   \n",
              "\n",
              "  estado_fisico_produccion  rendimiento(tha)  \n",
              "0             FRUTO FRESCO              1.00  \n",
              "1             FRUTO FRESCO             18.00  \n",
              "2             FRUTO FRESCO             17.33  \n",
              "3             FRUTO FRESCO             16.00  \n",
              "4             FRUTO FRESCO             10.00  "
            ],
            "text/html": [
              "\n",
              "  <div id=\"df-02823123-eb0e-43df-a667-b5ccdd925107\">\n",
              "    <div class=\"colab-df-container\">\n",
              "      <div>\n",
              "<style scoped>\n",
              "    .dataframe tbody tr th:only-of-type {\n",
              "        vertical-align: middle;\n",
              "    }\n",
              "\n",
              "    .dataframe tbody tr th {\n",
              "        vertical-align: top;\n",
              "    }\n",
              "\n",
              "    .dataframe thead th {\n",
              "        text-align: right;\n",
              "    }\n",
              "</style>\n",
              "<table border=\"1\" class=\"dataframe\">\n",
              "  <thead>\n",
              "    <tr style=\"text-align: right;\">\n",
              "      <th></th>\n",
              "      <th>Unnamed: 0</th>\n",
              "      <th>cultivo</th>\n",
              "      <th>grupo_cultivo</th>\n",
              "      <th>subgrupo_cultivo</th>\n",
              "      <th>desagregacion_regional_yo_sistema_productivo</th>\n",
              "      <th>ciclo_cultivo</th>\n",
              "      <th>anio</th>\n",
              "      <th>area_sembrada(ha)</th>\n",
              "      <th>area_cosechada(ha)</th>\n",
              "      <th>produccion(t)</th>\n",
              "      <th>estado_fisico_produccion</th>\n",
              "      <th>rendimiento(tha)</th>\n",
              "    </tr>\n",
              "  </thead>\n",
              "  <tbody>\n",
              "    <tr>\n",
              "      <th>0</th>\n",
              "      <td>0</td>\n",
              "      <td>ACELGA</td>\n",
              "      <td>HORTALIZAS</td>\n",
              "      <td>ACELGA</td>\n",
              "      <td>ACELGA</td>\n",
              "      <td>TRANSITORIO</td>\n",
              "      <td>2006</td>\n",
              "      <td>2.0</td>\n",
              "      <td>1.0</td>\n",
              "      <td>1.000000</td>\n",
              "      <td>FRUTO FRESCO</td>\n",
              "      <td>1.00</td>\n",
              "    </tr>\n",
              "    <tr>\n",
              "      <th>1</th>\n",
              "      <td>1</td>\n",
              "      <td>ACELGA</td>\n",
              "      <td>HORTALIZAS</td>\n",
              "      <td>ACELGA</td>\n",
              "      <td>ACELGA</td>\n",
              "      <td>TRANSITORIO</td>\n",
              "      <td>2006</td>\n",
              "      <td>82.0</td>\n",
              "      <td>80.0</td>\n",
              "      <td>181.962057</td>\n",
              "      <td>FRUTO FRESCO</td>\n",
              "      <td>18.00</td>\n",
              "    </tr>\n",
              "    <tr>\n",
              "      <th>2</th>\n",
              "      <td>2</td>\n",
              "      <td>ACELGA</td>\n",
              "      <td>HORTALIZAS</td>\n",
              "      <td>ACELGA</td>\n",
              "      <td>ACELGA</td>\n",
              "      <td>TRANSITORIO</td>\n",
              "      <td>2006</td>\n",
              "      <td>2.0</td>\n",
              "      <td>2.0</td>\n",
              "      <td>26.000000</td>\n",
              "      <td>FRUTO FRESCO</td>\n",
              "      <td>17.33</td>\n",
              "    </tr>\n",
              "    <tr>\n",
              "      <th>3</th>\n",
              "      <td>3</td>\n",
              "      <td>ACELGA</td>\n",
              "      <td>HORTALIZAS</td>\n",
              "      <td>ACELGA</td>\n",
              "      <td>ACELGA</td>\n",
              "      <td>TRANSITORIO</td>\n",
              "      <td>2006</td>\n",
              "      <td>3.0</td>\n",
              "      <td>3.0</td>\n",
              "      <td>48.000000</td>\n",
              "      <td>FRUTO FRESCO</td>\n",
              "      <td>16.00</td>\n",
              "    </tr>\n",
              "    <tr>\n",
              "      <th>4</th>\n",
              "      <td>4</td>\n",
              "      <td>ACELGA</td>\n",
              "      <td>HORTALIZAS</td>\n",
              "      <td>ACELGA</td>\n",
              "      <td>ACELGA</td>\n",
              "      <td>TRANSITORIO</td>\n",
              "      <td>2006</td>\n",
              "      <td>1.0</td>\n",
              "      <td>1.0</td>\n",
              "      <td>5.000000</td>\n",
              "      <td>FRUTO FRESCO</td>\n",
              "      <td>10.00</td>\n",
              "    </tr>\n",
              "  </tbody>\n",
              "</table>\n",
              "</div>\n",
              "      <button class=\"colab-df-convert\" onclick=\"convertToInteractive('df-02823123-eb0e-43df-a667-b5ccdd925107')\"\n",
              "              title=\"Convert this dataframe to an interactive table.\"\n",
              "              style=\"display:none;\">\n",
              "        \n",
              "  <svg xmlns=\"http://www.w3.org/2000/svg\" height=\"24px\"viewBox=\"0 0 24 24\"\n",
              "       width=\"24px\">\n",
              "    <path d=\"M0 0h24v24H0V0z\" fill=\"none\"/>\n",
              "    <path d=\"M18.56 5.44l.94 2.06.94-2.06 2.06-.94-2.06-.94-.94-2.06-.94 2.06-2.06.94zm-11 1L8.5 8.5l.94-2.06 2.06-.94-2.06-.94L8.5 2.5l-.94 2.06-2.06.94zm10 10l.94 2.06.94-2.06 2.06-.94-2.06-.94-.94-2.06-.94 2.06-2.06.94z\"/><path d=\"M17.41 7.96l-1.37-1.37c-.4-.4-.92-.59-1.43-.59-.52 0-1.04.2-1.43.59L10.3 9.45l-7.72 7.72c-.78.78-.78 2.05 0 2.83L4 21.41c.39.39.9.59 1.41.59.51 0 1.02-.2 1.41-.59l7.78-7.78 2.81-2.81c.8-.78.8-2.07 0-2.86zM5.41 20L4 18.59l7.72-7.72 1.47 1.35L5.41 20z\"/>\n",
              "  </svg>\n",
              "      </button>\n",
              "      \n",
              "  <style>\n",
              "    .colab-df-container {\n",
              "      display:flex;\n",
              "      flex-wrap:wrap;\n",
              "      gap: 12px;\n",
              "    }\n",
              "\n",
              "    .colab-df-convert {\n",
              "      background-color: #E8F0FE;\n",
              "      border: none;\n",
              "      border-radius: 50%;\n",
              "      cursor: pointer;\n",
              "      display: none;\n",
              "      fill: #1967D2;\n",
              "      height: 32px;\n",
              "      padding: 0 0 0 0;\n",
              "      width: 32px;\n",
              "    }\n",
              "\n",
              "    .colab-df-convert:hover {\n",
              "      background-color: #E2EBFA;\n",
              "      box-shadow: 0px 1px 2px rgba(60, 64, 67, 0.3), 0px 1px 3px 1px rgba(60, 64, 67, 0.15);\n",
              "      fill: #174EA6;\n",
              "    }\n",
              "\n",
              "    [theme=dark] .colab-df-convert {\n",
              "      background-color: #3B4455;\n",
              "      fill: #D2E3FC;\n",
              "    }\n",
              "\n",
              "    [theme=dark] .colab-df-convert:hover {\n",
              "      background-color: #434B5C;\n",
              "      box-shadow: 0px 1px 3px 1px rgba(0, 0, 0, 0.15);\n",
              "      filter: drop-shadow(0px 1px 2px rgba(0, 0, 0, 0.3));\n",
              "      fill: #FFFFFF;\n",
              "    }\n",
              "  </style>\n",
              "\n",
              "      <script>\n",
              "        const buttonEl =\n",
              "          document.querySelector('#df-02823123-eb0e-43df-a667-b5ccdd925107 button.colab-df-convert');\n",
              "        buttonEl.style.display =\n",
              "          google.colab.kernel.accessAllowed ? 'block' : 'none';\n",
              "\n",
              "        async function convertToInteractive(key) {\n",
              "          const element = document.querySelector('#df-02823123-eb0e-43df-a667-b5ccdd925107');\n",
              "          const dataTable =\n",
              "            await google.colab.kernel.invokeFunction('convertToInteractive',\n",
              "                                                     [key], {});\n",
              "          if (!dataTable) return;\n",
              "\n",
              "          const docLinkHtml = 'Like what you see? Visit the ' +\n",
              "            '<a target=\"_blank\" href=https://colab.research.google.com/notebooks/data_table.ipynb>data table notebook</a>'\n",
              "            + ' to learn more about interactive tables.';\n",
              "          element.innerHTML = '';\n",
              "          dataTable['output_type'] = 'display_data';\n",
              "          await google.colab.output.renderOutput(dataTable, element);\n",
              "          const docLink = document.createElement('div');\n",
              "          docLink.innerHTML = docLinkHtml;\n",
              "          element.appendChild(docLink);\n",
              "        }\n",
              "      </script>\n",
              "    </div>\n",
              "  </div>\n",
              "  "
            ]
          },
          "metadata": {},
          "execution_count": 4
        }
      ]
    },
    {
      "cell_type": "markdown",
      "source": [
        "# Información General del DaraSet"
      ],
      "metadata": {
        "id": "ZPA8ZTOurGhN"
      }
    },
    {
      "cell_type": "code",
      "source": [
        "prodata.describe()"
      ],
      "metadata": {
        "id": "1tdzlD_FKngl",
        "outputId": "22fb78c8-1a90-4cb6-82c0-67aeac8717b1",
        "colab": {
          "base_uri": "https://localhost:8080/",
          "height": 300
        }
      },
      "execution_count": 5,
      "outputs": [
        {
          "output_type": "execute_result",
          "data": {
            "text/plain": [
              "          Unnamed: 0           anio  area_sembrada(ha)  area_cosechada(ha)  \\\n",
              "count  206068.000000  206068.000000      206068.000000       206068.000000   \n",
              "mean   103033.500000    2012.455976         108.077342           98.686879   \n",
              "std     59486.851973       3.479113         173.845031          168.220867   \n",
              "min         0.000000    2006.000000           0.000000            0.000000   \n",
              "25%     51516.750000    2009.000000          10.000000            8.000000   \n",
              "50%    103033.500000    2013.000000          35.000000           30.000000   \n",
              "75%    154550.250000    2015.000000         108.077342           98.686879   \n",
              "max    206067.000000    2018.000000         999.000000          999.000000   \n",
              "\n",
              "       produccion(t)  rendimiento(tha)  \n",
              "count  206068.000000     206068.000000  \n",
              "mean      181.962057          9.238820  \n",
              "std       204.388840         14.764118  \n",
              "min         0.000000          0.030000  \n",
              "25%        32.000000          1.540000  \n",
              "50%       140.000000          5.290000  \n",
              "75%       194.000000         11.000000  \n",
              "max       999.000000        246.000000  "
            ],
            "text/html": [
              "\n",
              "  <div id=\"df-d97bfea2-73cc-4b58-b348-411b9e5229a3\">\n",
              "    <div class=\"colab-df-container\">\n",
              "      <div>\n",
              "<style scoped>\n",
              "    .dataframe tbody tr th:only-of-type {\n",
              "        vertical-align: middle;\n",
              "    }\n",
              "\n",
              "    .dataframe tbody tr th {\n",
              "        vertical-align: top;\n",
              "    }\n",
              "\n",
              "    .dataframe thead th {\n",
              "        text-align: right;\n",
              "    }\n",
              "</style>\n",
              "<table border=\"1\" class=\"dataframe\">\n",
              "  <thead>\n",
              "    <tr style=\"text-align: right;\">\n",
              "      <th></th>\n",
              "      <th>Unnamed: 0</th>\n",
              "      <th>anio</th>\n",
              "      <th>area_sembrada(ha)</th>\n",
              "      <th>area_cosechada(ha)</th>\n",
              "      <th>produccion(t)</th>\n",
              "      <th>rendimiento(tha)</th>\n",
              "    </tr>\n",
              "  </thead>\n",
              "  <tbody>\n",
              "    <tr>\n",
              "      <th>count</th>\n",
              "      <td>206068.000000</td>\n",
              "      <td>206068.000000</td>\n",
              "      <td>206068.000000</td>\n",
              "      <td>206068.000000</td>\n",
              "      <td>206068.000000</td>\n",
              "      <td>206068.000000</td>\n",
              "    </tr>\n",
              "    <tr>\n",
              "      <th>mean</th>\n",
              "      <td>103033.500000</td>\n",
              "      <td>2012.455976</td>\n",
              "      <td>108.077342</td>\n",
              "      <td>98.686879</td>\n",
              "      <td>181.962057</td>\n",
              "      <td>9.238820</td>\n",
              "    </tr>\n",
              "    <tr>\n",
              "      <th>std</th>\n",
              "      <td>59486.851973</td>\n",
              "      <td>3.479113</td>\n",
              "      <td>173.845031</td>\n",
              "      <td>168.220867</td>\n",
              "      <td>204.388840</td>\n",
              "      <td>14.764118</td>\n",
              "    </tr>\n",
              "    <tr>\n",
              "      <th>min</th>\n",
              "      <td>0.000000</td>\n",
              "      <td>2006.000000</td>\n",
              "      <td>0.000000</td>\n",
              "      <td>0.000000</td>\n",
              "      <td>0.000000</td>\n",
              "      <td>0.030000</td>\n",
              "    </tr>\n",
              "    <tr>\n",
              "      <th>25%</th>\n",
              "      <td>51516.750000</td>\n",
              "      <td>2009.000000</td>\n",
              "      <td>10.000000</td>\n",
              "      <td>8.000000</td>\n",
              "      <td>32.000000</td>\n",
              "      <td>1.540000</td>\n",
              "    </tr>\n",
              "    <tr>\n",
              "      <th>50%</th>\n",
              "      <td>103033.500000</td>\n",
              "      <td>2013.000000</td>\n",
              "      <td>35.000000</td>\n",
              "      <td>30.000000</td>\n",
              "      <td>140.000000</td>\n",
              "      <td>5.290000</td>\n",
              "    </tr>\n",
              "    <tr>\n",
              "      <th>75%</th>\n",
              "      <td>154550.250000</td>\n",
              "      <td>2015.000000</td>\n",
              "      <td>108.077342</td>\n",
              "      <td>98.686879</td>\n",
              "      <td>194.000000</td>\n",
              "      <td>11.000000</td>\n",
              "    </tr>\n",
              "    <tr>\n",
              "      <th>max</th>\n",
              "      <td>206067.000000</td>\n",
              "      <td>2018.000000</td>\n",
              "      <td>999.000000</td>\n",
              "      <td>999.000000</td>\n",
              "      <td>999.000000</td>\n",
              "      <td>246.000000</td>\n",
              "    </tr>\n",
              "  </tbody>\n",
              "</table>\n",
              "</div>\n",
              "      <button class=\"colab-df-convert\" onclick=\"convertToInteractive('df-d97bfea2-73cc-4b58-b348-411b9e5229a3')\"\n",
              "              title=\"Convert this dataframe to an interactive table.\"\n",
              "              style=\"display:none;\">\n",
              "        \n",
              "  <svg xmlns=\"http://www.w3.org/2000/svg\" height=\"24px\"viewBox=\"0 0 24 24\"\n",
              "       width=\"24px\">\n",
              "    <path d=\"M0 0h24v24H0V0z\" fill=\"none\"/>\n",
              "    <path d=\"M18.56 5.44l.94 2.06.94-2.06 2.06-.94-2.06-.94-.94-2.06-.94 2.06-2.06.94zm-11 1L8.5 8.5l.94-2.06 2.06-.94-2.06-.94L8.5 2.5l-.94 2.06-2.06.94zm10 10l.94 2.06.94-2.06 2.06-.94-2.06-.94-.94-2.06-.94 2.06-2.06.94z\"/><path d=\"M17.41 7.96l-1.37-1.37c-.4-.4-.92-.59-1.43-.59-.52 0-1.04.2-1.43.59L10.3 9.45l-7.72 7.72c-.78.78-.78 2.05 0 2.83L4 21.41c.39.39.9.59 1.41.59.51 0 1.02-.2 1.41-.59l7.78-7.78 2.81-2.81c.8-.78.8-2.07 0-2.86zM5.41 20L4 18.59l7.72-7.72 1.47 1.35L5.41 20z\"/>\n",
              "  </svg>\n",
              "      </button>\n",
              "      \n",
              "  <style>\n",
              "    .colab-df-container {\n",
              "      display:flex;\n",
              "      flex-wrap:wrap;\n",
              "      gap: 12px;\n",
              "    }\n",
              "\n",
              "    .colab-df-convert {\n",
              "      background-color: #E8F0FE;\n",
              "      border: none;\n",
              "      border-radius: 50%;\n",
              "      cursor: pointer;\n",
              "      display: none;\n",
              "      fill: #1967D2;\n",
              "      height: 32px;\n",
              "      padding: 0 0 0 0;\n",
              "      width: 32px;\n",
              "    }\n",
              "\n",
              "    .colab-df-convert:hover {\n",
              "      background-color: #E2EBFA;\n",
              "      box-shadow: 0px 1px 2px rgba(60, 64, 67, 0.3), 0px 1px 3px 1px rgba(60, 64, 67, 0.15);\n",
              "      fill: #174EA6;\n",
              "    }\n",
              "\n",
              "    [theme=dark] .colab-df-convert {\n",
              "      background-color: #3B4455;\n",
              "      fill: #D2E3FC;\n",
              "    }\n",
              "\n",
              "    [theme=dark] .colab-df-convert:hover {\n",
              "      background-color: #434B5C;\n",
              "      box-shadow: 0px 1px 3px 1px rgba(0, 0, 0, 0.15);\n",
              "      filter: drop-shadow(0px 1px 2px rgba(0, 0, 0, 0.3));\n",
              "      fill: #FFFFFF;\n",
              "    }\n",
              "  </style>\n",
              "\n",
              "      <script>\n",
              "        const buttonEl =\n",
              "          document.querySelector('#df-d97bfea2-73cc-4b58-b348-411b9e5229a3 button.colab-df-convert');\n",
              "        buttonEl.style.display =\n",
              "          google.colab.kernel.accessAllowed ? 'block' : 'none';\n",
              "\n",
              "        async function convertToInteractive(key) {\n",
              "          const element = document.querySelector('#df-d97bfea2-73cc-4b58-b348-411b9e5229a3');\n",
              "          const dataTable =\n",
              "            await google.colab.kernel.invokeFunction('convertToInteractive',\n",
              "                                                     [key], {});\n",
              "          if (!dataTable) return;\n",
              "\n",
              "          const docLinkHtml = 'Like what you see? Visit the ' +\n",
              "            '<a target=\"_blank\" href=https://colab.research.google.com/notebooks/data_table.ipynb>data table notebook</a>'\n",
              "            + ' to learn more about interactive tables.';\n",
              "          element.innerHTML = '';\n",
              "          dataTable['output_type'] = 'display_data';\n",
              "          await google.colab.output.renderOutput(dataTable, element);\n",
              "          const docLink = document.createElement('div');\n",
              "          docLink.innerHTML = docLinkHtml;\n",
              "          element.appendChild(docLink);\n",
              "        }\n",
              "      </script>\n",
              "    </div>\n",
              "  </div>\n",
              "  "
            ]
          },
          "metadata": {},
          "execution_count": 5
        }
      ]
    },
    {
      "cell_type": "code",
      "source": [
        "prodata.info()"
      ],
      "metadata": {
        "colab": {
          "base_uri": "https://localhost:8080/"
        },
        "id": "feQ7_2XZg4FG",
        "outputId": "ffb34c7b-5cdf-4d43-a9f5-7bd3fbb3ea04"
      },
      "execution_count": 6,
      "outputs": [
        {
          "output_type": "stream",
          "name": "stdout",
          "text": [
            "<class 'pandas.core.frame.DataFrame'>\n",
            "RangeIndex: 206068 entries, 0 to 206067\n",
            "Data columns (total 12 columns):\n",
            " #   Column                                        Non-Null Count   Dtype  \n",
            "---  ------                                        --------------   -----  \n",
            " 0   Unnamed: 0                                    206068 non-null  int64  \n",
            " 1   cultivo                                       206068 non-null  object \n",
            " 2   grupo_cultivo                                 206068 non-null  object \n",
            " 3   subgrupo_cultivo                              206068 non-null  object \n",
            " 4   desagregacion_regional_yo_sistema_productivo  206068 non-null  object \n",
            " 5   ciclo_cultivo                                 206068 non-null  object \n",
            " 6   anio                                          206068 non-null  int64  \n",
            " 7   area_sembrada(ha)                             206068 non-null  float64\n",
            " 8   area_cosechada(ha)                            206068 non-null  float64\n",
            " 9   produccion(t)                                 206068 non-null  float64\n",
            " 10  estado_fisico_produccion                      206068 non-null  object \n",
            " 11  rendimiento(tha)                              206068 non-null  float64\n",
            "dtypes: float64(4), int64(2), object(6)\n",
            "memory usage: 18.9+ MB\n"
          ]
        }
      ]
    },
    {
      "cell_type": "markdown",
      "source": [
        "# Preprocesamiento del DataSet\n",
        "\n",
        "En esta sección de tuvo que eliminar la columna seleccionada en función de la optimización del conjunto de datos"
      ],
      "metadata": {
        "id": "HATd_IUerKzl"
      }
    },
    {
      "cell_type": "code",
      "source": [
        "prodata.drop(['Unnamed: 0'], axis=1)"
      ],
      "metadata": {
        "colab": {
          "base_uri": "https://localhost:8080/",
          "height": 488
        },
        "id": "rDwJZjxr2U8X",
        "outputId": "6b232923-5a81-4f70-b4ed-fe80aef4df06"
      },
      "execution_count": 7,
      "outputs": [
        {
          "output_type": "execute_result",
          "data": {
            "text/plain": [
              "          cultivo grupo_cultivo subgrupo_cultivo  \\\n",
              "0          ACELGA    HORTALIZAS           ACELGA   \n",
              "1          ACELGA    HORTALIZAS           ACELGA   \n",
              "2          ACELGA    HORTALIZAS           ACELGA   \n",
              "3          ACELGA    HORTALIZAS           ACELGA   \n",
              "4          ACELGA    HORTALIZAS           ACELGA   \n",
              "...           ...           ...              ...   \n",
              "206063  CALABACIN    HORTALIZAS        CALABACIN   \n",
              "206064  CALABACIN    HORTALIZAS        CALABACIN   \n",
              "206065  CALABACIN    HORTALIZAS        CALABACIN   \n",
              "206066  CALABACIN    HORTALIZAS        CALABACIN   \n",
              "206067  CALABACIN    HORTALIZAS        CALABACIN   \n",
              "\n",
              "       desagregacion_regional_yo_sistema_productivo ciclo_cultivo  anio  \\\n",
              "0                                            ACELGA   TRANSITORIO  2006   \n",
              "1                                            ACELGA   TRANSITORIO  2006   \n",
              "2                                            ACELGA   TRANSITORIO  2006   \n",
              "3                                            ACELGA   TRANSITORIO  2006   \n",
              "4                                            ACELGA   TRANSITORIO  2006   \n",
              "...                                             ...           ...   ...   \n",
              "206063                                     ZUCCHINI   TRANSITORIO  2017   \n",
              "206064                                     ZUCCHINI   TRANSITORIO  2017   \n",
              "206065                                     ZUCCHINI   TRANSITORIO  2018   \n",
              "206066                                     ZUCCHINI   TRANSITORIO  2018   \n",
              "206067                                     ZUCCHINI   TRANSITORIO  2018   \n",
              "\n",
              "        area_sembrada(ha)  area_cosechada(ha)  produccion(t)  \\\n",
              "0                     2.0                 1.0       1.000000   \n",
              "1                    82.0                80.0     181.962057   \n",
              "2                     2.0                 2.0      26.000000   \n",
              "3                     3.0                 3.0      48.000000   \n",
              "4                     1.0                 1.0       5.000000   \n",
              "...                   ...                 ...            ...   \n",
              "206063               20.0                18.0     180.000000   \n",
              "206064                2.0                 2.0       8.000000   \n",
              "206065               15.0                15.0     150.000000   \n",
              "206066                6.0                 6.0      50.000000   \n",
              "206067                5.0                 5.0      25.000000   \n",
              "\n",
              "       estado_fisico_produccion  rendimiento(tha)  \n",
              "0                  FRUTO FRESCO              1.00  \n",
              "1                  FRUTO FRESCO             18.00  \n",
              "2                  FRUTO FRESCO             17.33  \n",
              "3                  FRUTO FRESCO             16.00  \n",
              "4                  FRUTO FRESCO             10.00  \n",
              "...                         ...               ...  \n",
              "206063         HORTALIZA FRESCA             10.00  \n",
              "206064         HORTALIZA FRESCA              5.00  \n",
              "206065         HORTALIZA FRESCA             10.00  \n",
              "206066         HORTALIZA FRESCA              8.27  \n",
              "206067         HORTALIZA FRESCA              5.00  \n",
              "\n",
              "[206068 rows x 11 columns]"
            ],
            "text/html": [
              "\n",
              "  <div id=\"df-64cd6e99-be5d-4d3e-985a-63ca09ec887d\">\n",
              "    <div class=\"colab-df-container\">\n",
              "      <div>\n",
              "<style scoped>\n",
              "    .dataframe tbody tr th:only-of-type {\n",
              "        vertical-align: middle;\n",
              "    }\n",
              "\n",
              "    .dataframe tbody tr th {\n",
              "        vertical-align: top;\n",
              "    }\n",
              "\n",
              "    .dataframe thead th {\n",
              "        text-align: right;\n",
              "    }\n",
              "</style>\n",
              "<table border=\"1\" class=\"dataframe\">\n",
              "  <thead>\n",
              "    <tr style=\"text-align: right;\">\n",
              "      <th></th>\n",
              "      <th>cultivo</th>\n",
              "      <th>grupo_cultivo</th>\n",
              "      <th>subgrupo_cultivo</th>\n",
              "      <th>desagregacion_regional_yo_sistema_productivo</th>\n",
              "      <th>ciclo_cultivo</th>\n",
              "      <th>anio</th>\n",
              "      <th>area_sembrada(ha)</th>\n",
              "      <th>area_cosechada(ha)</th>\n",
              "      <th>produccion(t)</th>\n",
              "      <th>estado_fisico_produccion</th>\n",
              "      <th>rendimiento(tha)</th>\n",
              "    </tr>\n",
              "  </thead>\n",
              "  <tbody>\n",
              "    <tr>\n",
              "      <th>0</th>\n",
              "      <td>ACELGA</td>\n",
              "      <td>HORTALIZAS</td>\n",
              "      <td>ACELGA</td>\n",
              "      <td>ACELGA</td>\n",
              "      <td>TRANSITORIO</td>\n",
              "      <td>2006</td>\n",
              "      <td>2.0</td>\n",
              "      <td>1.0</td>\n",
              "      <td>1.000000</td>\n",
              "      <td>FRUTO FRESCO</td>\n",
              "      <td>1.00</td>\n",
              "    </tr>\n",
              "    <tr>\n",
              "      <th>1</th>\n",
              "      <td>ACELGA</td>\n",
              "      <td>HORTALIZAS</td>\n",
              "      <td>ACELGA</td>\n",
              "      <td>ACELGA</td>\n",
              "      <td>TRANSITORIO</td>\n",
              "      <td>2006</td>\n",
              "      <td>82.0</td>\n",
              "      <td>80.0</td>\n",
              "      <td>181.962057</td>\n",
              "      <td>FRUTO FRESCO</td>\n",
              "      <td>18.00</td>\n",
              "    </tr>\n",
              "    <tr>\n",
              "      <th>2</th>\n",
              "      <td>ACELGA</td>\n",
              "      <td>HORTALIZAS</td>\n",
              "      <td>ACELGA</td>\n",
              "      <td>ACELGA</td>\n",
              "      <td>TRANSITORIO</td>\n",
              "      <td>2006</td>\n",
              "      <td>2.0</td>\n",
              "      <td>2.0</td>\n",
              "      <td>26.000000</td>\n",
              "      <td>FRUTO FRESCO</td>\n",
              "      <td>17.33</td>\n",
              "    </tr>\n",
              "    <tr>\n",
              "      <th>3</th>\n",
              "      <td>ACELGA</td>\n",
              "      <td>HORTALIZAS</td>\n",
              "      <td>ACELGA</td>\n",
              "      <td>ACELGA</td>\n",
              "      <td>TRANSITORIO</td>\n",
              "      <td>2006</td>\n",
              "      <td>3.0</td>\n",
              "      <td>3.0</td>\n",
              "      <td>48.000000</td>\n",
              "      <td>FRUTO FRESCO</td>\n",
              "      <td>16.00</td>\n",
              "    </tr>\n",
              "    <tr>\n",
              "      <th>4</th>\n",
              "      <td>ACELGA</td>\n",
              "      <td>HORTALIZAS</td>\n",
              "      <td>ACELGA</td>\n",
              "      <td>ACELGA</td>\n",
              "      <td>TRANSITORIO</td>\n",
              "      <td>2006</td>\n",
              "      <td>1.0</td>\n",
              "      <td>1.0</td>\n",
              "      <td>5.000000</td>\n",
              "      <td>FRUTO FRESCO</td>\n",
              "      <td>10.00</td>\n",
              "    </tr>\n",
              "    <tr>\n",
              "      <th>...</th>\n",
              "      <td>...</td>\n",
              "      <td>...</td>\n",
              "      <td>...</td>\n",
              "      <td>...</td>\n",
              "      <td>...</td>\n",
              "      <td>...</td>\n",
              "      <td>...</td>\n",
              "      <td>...</td>\n",
              "      <td>...</td>\n",
              "      <td>...</td>\n",
              "      <td>...</td>\n",
              "    </tr>\n",
              "    <tr>\n",
              "      <th>206063</th>\n",
              "      <td>CALABACIN</td>\n",
              "      <td>HORTALIZAS</td>\n",
              "      <td>CALABACIN</td>\n",
              "      <td>ZUCCHINI</td>\n",
              "      <td>TRANSITORIO</td>\n",
              "      <td>2017</td>\n",
              "      <td>20.0</td>\n",
              "      <td>18.0</td>\n",
              "      <td>180.000000</td>\n",
              "      <td>HORTALIZA FRESCA</td>\n",
              "      <td>10.00</td>\n",
              "    </tr>\n",
              "    <tr>\n",
              "      <th>206064</th>\n",
              "      <td>CALABACIN</td>\n",
              "      <td>HORTALIZAS</td>\n",
              "      <td>CALABACIN</td>\n",
              "      <td>ZUCCHINI</td>\n",
              "      <td>TRANSITORIO</td>\n",
              "      <td>2017</td>\n",
              "      <td>2.0</td>\n",
              "      <td>2.0</td>\n",
              "      <td>8.000000</td>\n",
              "      <td>HORTALIZA FRESCA</td>\n",
              "      <td>5.00</td>\n",
              "    </tr>\n",
              "    <tr>\n",
              "      <th>206065</th>\n",
              "      <td>CALABACIN</td>\n",
              "      <td>HORTALIZAS</td>\n",
              "      <td>CALABACIN</td>\n",
              "      <td>ZUCCHINI</td>\n",
              "      <td>TRANSITORIO</td>\n",
              "      <td>2018</td>\n",
              "      <td>15.0</td>\n",
              "      <td>15.0</td>\n",
              "      <td>150.000000</td>\n",
              "      <td>HORTALIZA FRESCA</td>\n",
              "      <td>10.00</td>\n",
              "    </tr>\n",
              "    <tr>\n",
              "      <th>206066</th>\n",
              "      <td>CALABACIN</td>\n",
              "      <td>HORTALIZAS</td>\n",
              "      <td>CALABACIN</td>\n",
              "      <td>ZUCCHINI</td>\n",
              "      <td>TRANSITORIO</td>\n",
              "      <td>2018</td>\n",
              "      <td>6.0</td>\n",
              "      <td>6.0</td>\n",
              "      <td>50.000000</td>\n",
              "      <td>HORTALIZA FRESCA</td>\n",
              "      <td>8.27</td>\n",
              "    </tr>\n",
              "    <tr>\n",
              "      <th>206067</th>\n",
              "      <td>CALABACIN</td>\n",
              "      <td>HORTALIZAS</td>\n",
              "      <td>CALABACIN</td>\n",
              "      <td>ZUCCHINI</td>\n",
              "      <td>TRANSITORIO</td>\n",
              "      <td>2018</td>\n",
              "      <td>5.0</td>\n",
              "      <td>5.0</td>\n",
              "      <td>25.000000</td>\n",
              "      <td>HORTALIZA FRESCA</td>\n",
              "      <td>5.00</td>\n",
              "    </tr>\n",
              "  </tbody>\n",
              "</table>\n",
              "<p>206068 rows × 11 columns</p>\n",
              "</div>\n",
              "      <button class=\"colab-df-convert\" onclick=\"convertToInteractive('df-64cd6e99-be5d-4d3e-985a-63ca09ec887d')\"\n",
              "              title=\"Convert this dataframe to an interactive table.\"\n",
              "              style=\"display:none;\">\n",
              "        \n",
              "  <svg xmlns=\"http://www.w3.org/2000/svg\" height=\"24px\"viewBox=\"0 0 24 24\"\n",
              "       width=\"24px\">\n",
              "    <path d=\"M0 0h24v24H0V0z\" fill=\"none\"/>\n",
              "    <path d=\"M18.56 5.44l.94 2.06.94-2.06 2.06-.94-2.06-.94-.94-2.06-.94 2.06-2.06.94zm-11 1L8.5 8.5l.94-2.06 2.06-.94-2.06-.94L8.5 2.5l-.94 2.06-2.06.94zm10 10l.94 2.06.94-2.06 2.06-.94-2.06-.94-.94-2.06-.94 2.06-2.06.94z\"/><path d=\"M17.41 7.96l-1.37-1.37c-.4-.4-.92-.59-1.43-.59-.52 0-1.04.2-1.43.59L10.3 9.45l-7.72 7.72c-.78.78-.78 2.05 0 2.83L4 21.41c.39.39.9.59 1.41.59.51 0 1.02-.2 1.41-.59l7.78-7.78 2.81-2.81c.8-.78.8-2.07 0-2.86zM5.41 20L4 18.59l7.72-7.72 1.47 1.35L5.41 20z\"/>\n",
              "  </svg>\n",
              "      </button>\n",
              "      \n",
              "  <style>\n",
              "    .colab-df-container {\n",
              "      display:flex;\n",
              "      flex-wrap:wrap;\n",
              "      gap: 12px;\n",
              "    }\n",
              "\n",
              "    .colab-df-convert {\n",
              "      background-color: #E8F0FE;\n",
              "      border: none;\n",
              "      border-radius: 50%;\n",
              "      cursor: pointer;\n",
              "      display: none;\n",
              "      fill: #1967D2;\n",
              "      height: 32px;\n",
              "      padding: 0 0 0 0;\n",
              "      width: 32px;\n",
              "    }\n",
              "\n",
              "    .colab-df-convert:hover {\n",
              "      background-color: #E2EBFA;\n",
              "      box-shadow: 0px 1px 2px rgba(60, 64, 67, 0.3), 0px 1px 3px 1px rgba(60, 64, 67, 0.15);\n",
              "      fill: #174EA6;\n",
              "    }\n",
              "\n",
              "    [theme=dark] .colab-df-convert {\n",
              "      background-color: #3B4455;\n",
              "      fill: #D2E3FC;\n",
              "    }\n",
              "\n",
              "    [theme=dark] .colab-df-convert:hover {\n",
              "      background-color: #434B5C;\n",
              "      box-shadow: 0px 1px 3px 1px rgba(0, 0, 0, 0.15);\n",
              "      filter: drop-shadow(0px 1px 2px rgba(0, 0, 0, 0.3));\n",
              "      fill: #FFFFFF;\n",
              "    }\n",
              "  </style>\n",
              "\n",
              "      <script>\n",
              "        const buttonEl =\n",
              "          document.querySelector('#df-64cd6e99-be5d-4d3e-985a-63ca09ec887d button.colab-df-convert');\n",
              "        buttonEl.style.display =\n",
              "          google.colab.kernel.accessAllowed ? 'block' : 'none';\n",
              "\n",
              "        async function convertToInteractive(key) {\n",
              "          const element = document.querySelector('#df-64cd6e99-be5d-4d3e-985a-63ca09ec887d');\n",
              "          const dataTable =\n",
              "            await google.colab.kernel.invokeFunction('convertToInteractive',\n",
              "                                                     [key], {});\n",
              "          if (!dataTable) return;\n",
              "\n",
              "          const docLinkHtml = 'Like what you see? Visit the ' +\n",
              "            '<a target=\"_blank\" href=https://colab.research.google.com/notebooks/data_table.ipynb>data table notebook</a>'\n",
              "            + ' to learn more about interactive tables.';\n",
              "          element.innerHTML = '';\n",
              "          dataTable['output_type'] = 'display_data';\n",
              "          await google.colab.output.renderOutput(dataTable, element);\n",
              "          const docLink = document.createElement('div');\n",
              "          docLink.innerHTML = docLinkHtml;\n",
              "          element.appendChild(docLink);\n",
              "        }\n",
              "      </script>\n",
              "    </div>\n",
              "  </div>\n",
              "  "
            ]
          },
          "metadata": {},
          "execution_count": 7
        }
      ]
    },
    {
      "cell_type": "markdown",
      "source": [
        "# Generación de gráficos\n",
        "\n",
        "Abstracción de categorías"
      ],
      "metadata": {
        "id": "xn7g-9DKraDt"
      }
    },
    {
      "cell_type": "code",
      "source": [
        "categories = prodata['grupo_cultivo'].value_counts(ascending=False).index\n",
        "categories"
      ],
      "metadata": {
        "colab": {
          "base_uri": "https://localhost:8080/"
        },
        "id": "c80Gvhug7kAu",
        "outputId": "6e42fb2b-5d82-4e60-8eab-4d2cd6c583dc"
      },
      "execution_count": 8,
      "outputs": [
        {
          "output_type": "execute_result",
          "data": {
            "text/plain": [
              "Index(['FRUTALES', 'CEREALES', 'HORTALIZAS', 'TUBERCULOS Y PLATANOS',\n",
              "       'LEGUMINOSAS', 'OTROS PERMANENTES', 'FIBRAS', 'OLEAGINOSAS',\n",
              "       'PLANTAS AROMATICAS, CONDIMENTARIAS Y MEDICINALES', 'FORESTALES',\n",
              "       'FLORES Y FOLLAJES', 'OTROS TRANSITORIOS', 'HONGOS'],\n",
              "      dtype='object')"
            ]
          },
          "metadata": {},
          "execution_count": 8
        }
      ]
    },
    {
      "cell_type": "markdown",
      "source": [
        "# Gráfico de Barras"
      ],
      "metadata": {
        "id": "4pbw9R5vrilA"
      }
    },
    {
      "cell_type": "code",
      "source": [
        "plt.figure(figsize=(10,6))\n",
        "#Distribución de las clases\n",
        "sns.set(style='darkgrid')\n",
        "ax = sns.countplot(y=\"grupo_cultivo\", data=prodata, palette = \"Reds_r\", order=prodata['grupo_cultivo'].value_counts(ascending=False).index)\n",
        "ax.bar_label(ax.containers[0], label_type='edge')\n",
        "# set labels\n",
        "plt.xlabel(\"Cantidad de cultivos\", size=15)\n",
        "plt.ylabel(\"Grupos de Cultivos\", size=15)\n",
        "plt.title(\"Frecuencias de grupos de cultivos en Colombia\", size=16)\n",
        "plt.tight_layout()\n",
        "plt.savefig(\"Graph1.png\", dpi=100)"
      ],
      "metadata": {
        "colab": {
          "base_uri": "https://localhost:8080/",
          "height": 437
        },
        "id": "MMXbu1lk0gmP",
        "outputId": "67cb7e23-cef7-40b8-afdc-946f0a6427e2"
      },
      "execution_count": 9,
      "outputs": [
        {
          "output_type": "display_data",
          "data": {
            "text/plain": [
              "<Figure size 720x432 with 1 Axes>"
            ],
            "image/png": "[encoded data removed]"
          },
          "metadata": {
            "needs_background": "light"
          }
        }
      ]
    },
    {
      "cell_type": "markdown",
      "source": [
        "# Renombrado de columnas"
      ],
      "metadata": {
        "id": "HdUvAeIzrnt8"
      }
    },
    {
      "cell_type": "code",
      "source": [
        "prodata.rename(columns={'area_sembrada(ha)':'area_sembrada_ha',\n",
        "                        'area_cosechada(ha)':'area_cosechada_ha',\n",
        "                        'produccion(t)':'produccion_t',\n",
        "                        'rendimiento(tha)':'rendimiento_tha'},\n",
        "               inplace=True)"
      ],
      "metadata": {
        "id": "dLdnN4rqED5X"
      },
      "execution_count": 12,
      "outputs": []
    },
    {
      "cell_type": "code",
      "source": [
        "prodata.info()"
      ],
      "metadata": {
        "colab": {
          "base_uri": "https://localhost:8080/"
        },
        "id": "O_3GgP5xFEId",
        "outputId": "ecf9b58a-be46-4d88-c514-45237013a620"
      },
      "execution_count": 13,
      "outputs": [
        {
          "output_type": "stream",
          "name": "stdout",
          "text": [
            "<class 'pandas.core.frame.DataFrame'>\n",
            "RangeIndex: 206068 entries, 0 to 206067\n",
            "Data columns (total 12 columns):\n",
            " #   Column                                        Non-Null Count   Dtype  \n",
            "---  ------                                        --------------   -----  \n",
            " 0   Unnamed: 0                                    206068 non-null  int64  \n",
            " 1   cultivo                                       206068 non-null  object \n",
            " 2   grupo_cultivo                                 206068 non-null  object \n",
            " 3   subgrupo_cultivo                              206068 non-null  object \n",
            " 4   desagregacion_regional_yo_sistema_productivo  206068 non-null  object \n",
            " 5   ciclo_cultivo                                 206068 non-null  object \n",
            " 6   anio                                          206068 non-null  int64  \n",
            " 7   area_sembrada_ha                              206068 non-null  float64\n",
            " 8   area_cosechada_ha                             206068 non-null  float64\n",
            " 9   produccion_t                                  206068 non-null  float64\n",
            " 10  estado_fisico_produccion                      206068 non-null  object \n",
            " 11  rendimiento_tha                               206068 non-null  float64\n",
            "dtypes: float64(4), int64(2), object(6)\n",
            "memory usage: 18.9+ MB\n"
          ]
        }
      ]
    },
    {
      "cell_type": "markdown",
      "source": [
        "# Función de Densidad Producción"
      ],
      "metadata": {
        "id": "xgjDb2g0rsT4"
      }
    },
    {
      "cell_type": "code",
      "source": [
        "#Distribución de la edad(ege)\n",
        "plt.figure(figsize=(10,6))\n",
        "sns.distplot(prodata.produccion_t.dropna( ), color='Red')\n",
        "plt.xlabel(\"Producción (Toneladas)\", size=15)\n",
        "plt.ylabel(\"Función de densidad\", size=15)\n",
        "plt.title(\"Función de densidad - Producción(Ton)\", size=16)\n",
        "plt.show( )\n",
        "plt.savefig(\"Graph1.png\", dpi=100)"
      ],
      "metadata": {
        "colab": {
          "base_uri": "https://localhost:8080/",
          "height": 487
        },
        "id": "Ud7eu-HiflYM",
        "outputId": "2fb8c720-fab4-4be6-f8e2-b73c30bb2f46"
      },
      "execution_count": 14,
      "outputs": [
        {
          "output_type": "stream",
          "name": "stderr",
          "text": [
            "/usr/local/lib/python3.7/dist-packages/seaborn/distributions.py:2619: FutureWarning: `distplot` is a deprecated function and will be removed in a future version. Please adapt your code to use either `displot` (a figure-level function with similar flexibility) or `histplot` (an axes-level function for histograms).\n",
            "  warnings.warn(msg, FutureWarning)\n"
          ]
        },
        {
          "output_type": "display_data",
          "data": {
            "text/plain": [
              "<Figure size 720x432 with 1 Axes>"
            ],
            "image/png": "[encoded data removed]"
          },
          "metadata": {}
        },
        {
          "output_type": "display_data",
          "data": {
            "text/plain": [
              "<Figure size 432x288 with 0 Axes>"
            ]
          },
          "metadata": {}
        }
      ]
    },
    {
      "cell_type": "markdown",
      "source": [
        "# Función de densidad Área Cosechada"
      ],
      "metadata": {
        "id": "cvVnnTctrz6V"
      }
    },
    {
      "cell_type": "code",
      "source": [
        "plt.figure(figsize=(10,6))\n",
        "sns.distplot(prodata.area_cosechada_ha.dropna( ), color='Red')\n",
        "plt.xlabel(\"Área Cosechada (Toneladas)\", size=15)\n",
        "plt.ylabel(\"Función de densidad\", size=15)\n",
        "plt.title(\"Función de densidad - Área Cosechada(Ton)\", size=16)\n",
        "plt.show( )\n",
        "plt.savefig(\"Graph3.png\", dpi=100)"
      ],
      "metadata": {
        "colab": {
          "base_uri": "https://localhost:8080/",
          "height": 491
        },
        "id": "rvgivCDafpbG",
        "outputId": "cd4c4409-61bd-4f84-bf65-34f2bc75fa7f"
      },
      "execution_count": 15,
      "outputs": [
        {
          "output_type": "stream",
          "name": "stderr",
          "text": [
            "/usr/local/lib/python3.7/dist-packages/seaborn/distributions.py:2619: FutureWarning: `distplot` is a deprecated function and will be removed in a future version. Please adapt your code to use either `displot` (a figure-level function with similar flexibility) or `histplot` (an axes-level function for histograms).\n",
            "  warnings.warn(msg, FutureWarning)\n"
          ]
        },
        {
          "output_type": "display_data",
          "data": {
            "text/plain": [
              "<Figure size 720x432 with 1 Axes>"
            ],
            "image/png": "[encoded data removed]"
          },
          "metadata": {}
        },
        {
          "output_type": "display_data",
          "data": {
            "text/plain": [
              "<Figure size 432x288 with 0 Axes>"
            ]
          },
          "metadata": {}
        }
      ]
    },
    {
      "cell_type": "markdown",
      "source": [
        "# Función de densidad Área Sembrada/Cosechada"
      ],
      "metadata": {
        "id": "tNnCXATNr8Pk"
      }
    },
    {
      "cell_type": "code",
      "source": [
        "from scipy.stats import alpha\n",
        "#Distribución de la edad(ege)\n",
        "plt.figure(figsize=(10,6))\n",
        "p = sns.distplot(prodata.area_sembrada_ha.dropna( ), color='#00f0f0')\n",
        "g = sns.distplot(prodata.area_cosechada_ha.dropna( ), color='#9b59b6')\n",
        "plt.xlabel(\"Área Sembrada/cosechada (Toneladas)\", size=15)\n",
        "plt.ylabel(\"Función de densidad\", size=15)\n",
        "plt.title(\"Función de densidad - Área Sembrada/Cosechada(Ton)\", size=16)\n",
        "plt.legend(labels=[\"Área Sembrada\",\"Área Cosechada\"])\n",
        "plt.show( )\n",
        "plt.savefig(\"Graph4.png\", dpi=100)"
      ],
      "metadata": {
        "colab": {
          "base_uri": "https://localhost:8080/",
          "height": 526
        },
        "id": "ca6XLuLZgBnn",
        "outputId": "a54582ee-2281-414e-a747-55590d14cfca"
      },
      "execution_count": 16,
      "outputs": [
        {
          "output_type": "stream",
          "name": "stderr",
          "text": [
            "/usr/local/lib/python3.7/dist-packages/seaborn/distributions.py:2619: FutureWarning: `distplot` is a deprecated function and will be removed in a future version. Please adapt your code to use either `displot` (a figure-level function with similar flexibility) or `histplot` (an axes-level function for histograms).\n",
            "  warnings.warn(msg, FutureWarning)\n",
            "/usr/local/lib/python3.7/dist-packages/seaborn/distributions.py:2619: FutureWarning: `distplot` is a deprecated function and will be removed in a future version. Please adapt your code to use either `displot` (a figure-level function with similar flexibility) or `histplot` (an axes-level function for histograms).\n",
            "  warnings.warn(msg, FutureWarning)\n"
          ]
        },
        {
          "output_type": "display_data",
          "data": {
            "text/plain": [
              "<Figure size 720x432 with 1 Axes>"
            ],
            "image/png": "[encoded data removed]"
          },
          "metadata": {}
        },
        {
          "output_type": "display_data",
          "data": {
            "text/plain": [
              "<Figure size 432x288 with 0 Axes>"
            ]
          },
          "metadata": {}
        }
      ]
    },
    {
      "cell_type": "markdown",
      "source": [
        "# Función de densidad Rendimiento"
      ],
      "metadata": {
        "id": "AmrQnIqGsE_M"
      }
    },
    {
      "cell_type": "code",
      "source": [
        "#Distribución de la edad(ege)\n",
        "plt.figure(figsize=(10,6))\n",
        "sns.distplot(prodata.rendimiento_tha.dropna( ), color='Red')\n",
        "plt.xlabel(\"Rendimiento (Toneladas/Año)\", size=15)\n",
        "plt.ylabel(\"Función de densidad\", size=15)\n",
        "plt.title(\"Función de densidad - Toneladas/Año\", size=16)\n",
        "plt.show( )\n",
        "plt.savefig(\"Graph3.png\", dpi=100)"
      ],
      "metadata": {
        "colab": {
          "base_uri": "https://localhost:8080/",
          "height": 486
        },
        "id": "g8k2fpLwhuid",
        "outputId": "4e3b4a93-3328-4a4e-96ca-9c1d4759ce69"
      },
      "execution_count": 17,
      "outputs": [
        {
          "output_type": "stream",
          "name": "stderr",
          "text": [
            "/usr/local/lib/python3.7/dist-packages/seaborn/distributions.py:2619: FutureWarning: `distplot` is a deprecated function and will be removed in a future version. Please adapt your code to use either `displot` (a figure-level function with similar flexibility) or `histplot` (an axes-level function for histograms).\n",
            "  warnings.warn(msg, FutureWarning)\n"
          ]
        },
        {
          "output_type": "display_data",
          "data": {
            "text/plain": [
              "<Figure size 720x432 with 1 Axes>"
            ],
            "image/png": "[encoded data removed]"
          },
          "metadata": {}
        },
        {
          "output_type": "display_data",
          "data": {
            "text/plain": [
              "<Figure size 432x288 with 0 Axes>"
            ]
          },
          "metadata": {}
        }
      ]
    },
    {
      "cell_type": "code",
      "source": [
        "#Cambiamos el font\n",
        "sns.set(font_scale=1)\n",
        "\n",
        "#FacetGrid - Construir una matriz de gráficos\n",
        "g = sns.FacetGrid(prodata, row='cultivo',col='grupo_cultivo')\n",
        "g.map(sns.distplot, \"produccion_t\")\n",
        "plt.show()"
      ],
      "metadata": {
        "colab": {
          "base_uri": "https://localhost:8080/"
        },
        "id": "ZEQI0eBuc4rL",
        "outputId": "4cd0f89d-6820-4043-87b1-0016b08f5079"
      },
      "execution_count": null,
      "outputs": [
        {
          "output_type": "stream",
          "name": "stderr",
          "text": [
            "/usr/local/lib/python3.7/dist-packages/seaborn/distributions.py:2619: FutureWarning: `distplot` is a deprecated function and will be removed in a future version. Please adapt your code to use either `displot` (a figure-level function with similar flexibility) or `histplot` (an axes-level function for histograms).\n",
            "  warnings.warn(msg, FutureWarning)\n",
            "/usr/local/lib/python3.7/dist-packages/seaborn/distributions.py:2619: FutureWarning: `distplot` is a deprecated function and will be removed in a future version. Please adapt your code to use either `displot` (a figure-level function with similar flexibility) or `histplot` (an axes-level function for histograms).\n",
            "  warnings.warn(msg, FutureWarning)\n",
            "/usr/local/lib/python3.7/dist-packages/seaborn/distributions.py:2619: FutureWarning: `distplot` is a deprecated function and will be removed in a future version. Please adapt your code to use either `displot` (a figure-level function with similar flexibility) or `histplot` (an axes-level function for histograms).\n",
            "  warnings.warn(msg, FutureWarning)\n",
            "/usr/local/lib/python3.7/dist-packages/seaborn/distributions.py:2619: FutureWarning: `distplot` is a deprecated function and will be removed in a future version. Please adapt your code to use either `displot` (a figure-level function with similar flexibility) or `histplot` (an axes-level function for histograms).\n",
            "  warnings.warn(msg, FutureWarning)\n",
            "/usr/local/lib/python3.7/dist-packages/seaborn/distributions.py:2619: FutureWarning: `distplot` is a deprecated function and will be removed in a future version. Please adapt your code to use either `displot` (a figure-level function with similar flexibility) or `histplot` (an axes-level function for histograms).\n",
            "  warnings.warn(msg, FutureWarning)\n",
            "/usr/local/lib/python3.7/dist-packages/seaborn/distributions.py:2619: FutureWarning: `distplot` is a deprecated function and will be removed in a future version. Please adapt your code to use either `displot` (a figure-level function with similar flexibility) or `histplot` (an axes-level function for histograms).\n",
            "  warnings.warn(msg, FutureWarning)\n",
            "/usr/local/lib/python3.7/dist-packages/seaborn/distributions.py:2619: FutureWarning: `distplot` is a deprecated function and will be removed in a future version. Please adapt your code to use either `displot` (a figure-level function with similar flexibility) or `histplot` (an axes-level function for histograms).\n",
            "  warnings.warn(msg, FutureWarning)\n",
            "/usr/local/lib/python3.7/dist-packages/seaborn/distributions.py:2619: FutureWarning: `distplot` is a deprecated function and will be removed in a future version. Please adapt your code to use either `displot` (a figure-level function with similar flexibility) or `histplot` (an axes-level function for histograms).\n",
            "  warnings.warn(msg, FutureWarning)\n",
            "/usr/local/lib/python3.7/dist-packages/seaborn/distributions.py:2619: FutureWarning: `distplot` is a deprecated function and will be removed in a future version. Please adapt your code to use either `displot` (a figure-level function with similar flexibility) or `histplot` (an axes-level function for histograms).\n",
            "  warnings.warn(msg, FutureWarning)\n",
            "/usr/local/lib/python3.7/dist-packages/seaborn/distributions.py:2619: FutureWarning: `distplot` is a deprecated function and will be removed in a future version. Please adapt your code to use either `displot` (a figure-level function with similar flexibility) or `histplot` (an axes-level function for histograms).\n",
            "  warnings.warn(msg, FutureWarning)\n",
            "/usr/local/lib/python3.7/dist-packages/seaborn/distributions.py:2619: FutureWarning: `distplot` is a deprecated function and will be removed in a future version. Please adapt your code to use either `displot` (a figure-level function with similar flexibility) or `histplot` (an axes-level function for histograms).\n",
            "  warnings.warn(msg, FutureWarning)\n",
            "/usr/local/lib/python3.7/dist-packages/seaborn/distributions.py:2619: FutureWarning: `distplot` is a deprecated function and will be removed in a future version. Please adapt your code to use either `displot` (a figure-level function with similar flexibility) or `histplot` (an axes-level function for histograms).\n",
            "  warnings.warn(msg, FutureWarning)\n",
            "/usr/local/lib/python3.7/dist-packages/seaborn/distributions.py:2619: FutureWarning: `distplot` is a deprecated function and will be removed in a future version. Please adapt your code to use either `displot` (a figure-level function with similar flexibility) or `histplot` (an axes-level function for histograms).\n",
            "  warnings.warn(msg, FutureWarning)\n",
            "/usr/local/lib/python3.7/dist-packages/seaborn/distributions.py:2619: FutureWarning: `distplot` is a deprecated function and will be removed in a future version. Please adapt your code to use either `displot` (a figure-level function with similar flexibility) or `histplot` (an axes-level function for histograms).\n",
            "  warnings.warn(msg, FutureWarning)\n",
            "/usr/local/lib/python3.7/dist-packages/seaborn/distributions.py:2619: FutureWarning: `distplot` is a deprecated function and will be removed in a future version. Please adapt your code to use either `displot` (a figure-level function with similar flexibility) or `histplot` (an axes-level function for histograms).\n",
            "  warnings.warn(msg, FutureWarning)\n",
            "/usr/local/lib/python3.7/dist-packages/seaborn/distributions.py:316: UserWarning: Dataset has 0 variance; skipping density estimate. Pass `warn_singular=False` to disable this warning.\n",
            "  warnings.warn(msg, UserWarning)\n",
            "/usr/local/lib/python3.7/dist-packages/seaborn/distributions.py:2619: FutureWarning: `distplot` is a deprecated function and will be removed in a future version. Please adapt your code to use either `displot` (a figure-level function with similar flexibility) or `histplot` (an axes-level function for histograms).\n",
            "  warnings.warn(msg, FutureWarning)\n",
            "/usr/local/lib/python3.7/dist-packages/seaborn/distributions.py:2619: FutureWarning: `distplot` is a deprecated function and will be removed in a future version. Please adapt your code to use either `displot` (a figure-level function with similar flexibility) or `histplot` (an axes-level function for histograms).\n",
            "  warnings.warn(msg, FutureWarning)\n",
            "/usr/local/lib/python3.7/dist-packages/seaborn/distributions.py:2619: FutureWarning: `distplot` is a deprecated function and will be removed in a future version. Please adapt your code to use either `displot` (a figure-level function with similar flexibility) or `histplot` (an axes-level function for histograms).\n",
            "  warnings.warn(msg, FutureWarning)\n",
            "/usr/local/lib/python3.7/dist-packages/seaborn/distributions.py:2619: FutureWarning: `distplot` is a deprecated function and will be removed in a future version. Please adapt your code to use either `displot` (a figure-level function with similar flexibility) or `histplot` (an axes-level function for histograms).\n",
            "  warnings.warn(msg, FutureWarning)\n",
            "/usr/local/lib/python3.7/dist-packages/seaborn/distributions.py:316: UserWarning: Dataset has 0 variance; skipping density estimate. Pass `warn_singular=False` to disable this warning.\n",
            "  warnings.warn(msg, UserWarning)\n",
            "/usr/local/lib/python3.7/dist-packages/seaborn/distributions.py:2619: FutureWarning: `distplot` is a deprecated function and will be removed in a future version. Please adapt your code to use either `displot` (a figure-level function with similar flexibility) or `histplot` (an axes-level function for histograms).\n",
            "  warnings.warn(msg, FutureWarning)\n",
            "/usr/local/lib/python3.7/dist-packages/seaborn/distributions.py:2619: FutureWarning: `distplot` is a deprecated function and will be removed in a future version. Please adapt your code to use either `displot` (a figure-level function with similar flexibility) or `histplot` (an axes-level function for histograms).\n",
            "  warnings.warn(msg, FutureWarning)\n",
            "/usr/local/lib/python3.7/dist-packages/seaborn/distributions.py:2619: FutureWarning: `distplot` is a deprecated function and will be removed in a future version. Please adapt your code to use either `displot` (a figure-level function with similar flexibility) or `histplot` (an axes-level function for histograms).\n",
            "  warnings.warn(msg, FutureWarning)\n",
            "/usr/local/lib/python3.7/dist-packages/seaborn/distributions.py:2619: FutureWarning: `distplot` is a deprecated function and will be removed in a future version. Please adapt your code to use either `displot` (a figure-level function with similar flexibility) or `histplot` (an axes-level function for histograms).\n",
            "  warnings.warn(msg, FutureWarning)\n",
            "/usr/local/lib/python3.7/dist-packages/seaborn/distributions.py:2619: FutureWarning: `distplot` is a deprecated function and will be removed in a future version. Please adapt your code to use either `displot` (a figure-level function with similar flexibility) or `histplot` (an axes-level function for histograms).\n",
            "  warnings.warn(msg, FutureWarning)\n",
            "/usr/local/lib/python3.7/dist-packages/seaborn/distributions.py:2619: FutureWarning: `distplot` is a deprecated function and will be removed in a future version. Please adapt your code to use either `displot` (a figure-level function with similar flexibility) or `histplot` (an axes-level function for histograms).\n",
            "  warnings.warn(msg, FutureWarning)\n",
            "/usr/local/lib/python3.7/dist-packages/seaborn/distributions.py:2619: FutureWarning: `distplot` is a deprecated function and will be removed in a future version. Please adapt your code to use either `displot` (a figure-level function with similar flexibility) or `histplot` (an axes-level function for histograms).\n",
            "  warnings.warn(msg, FutureWarning)\n",
            "/usr/local/lib/python3.7/dist-packages/seaborn/distributions.py:2619: FutureWarning: `distplot` is a deprecated function and will be removed in a future version. Please adapt your code to use either `displot` (a figure-level function with similar flexibility) or `histplot` (an axes-level function for histograms).\n",
            "  warnings.warn(msg, FutureWarning)\n",
            "/usr/local/lib/python3.7/dist-packages/seaborn/distributions.py:2619: FutureWarning: `distplot` is a deprecated function and will be removed in a future version. Please adapt your code to use either `displot` (a figure-level function with similar flexibility) or `histplot` (an axes-level function for histograms).\n",
            "  warnings.warn(msg, FutureWarning)\n",
            "/usr/local/lib/python3.7/dist-packages/seaborn/distributions.py:2619: FutureWarning: `distplot` is a deprecated function and will be removed in a future version. Please adapt your code to use either `displot` (a figure-level function with similar flexibility) or `histplot` (an axes-level function for histograms).\n",
            "  warnings.warn(msg, FutureWarning)\n",
            "/usr/local/lib/python3.7/dist-packages/seaborn/distributions.py:2619: FutureWarning: `distplot` is a deprecated function and will be removed in a future version. Please adapt your code to use either `displot` (a figure-level function with similar flexibility) or `histplot` (an axes-level function for histograms).\n",
            "  warnings.warn(msg, FutureWarning)\n",
            "/usr/local/lib/python3.7/dist-packages/seaborn/distributions.py:2619: FutureWarning: `distplot` is a deprecated function and will be removed in a future version. Please adapt your code to use either `displot` (a figure-level function with similar flexibility) or `histplot` (an axes-level function for histograms).\n",
            "  warnings.warn(msg, FutureWarning)\n",
            "/usr/local/lib/python3.7/dist-packages/seaborn/distributions.py:2619: FutureWarning: `distplot` is a deprecated function and will be removed in a future version. Please adapt your code to use either `displot` (a figure-level function with similar flexibility) or `histplot` (an axes-level function for histograms).\n",
            "  warnings.warn(msg, FutureWarning)\n",
            "/usr/local/lib/python3.7/dist-packages/seaborn/distributions.py:316: UserWarning: Dataset has 0 variance; skipping density estimate. Pass `warn_singular=False` to disable this warning.\n",
            "  warnings.warn(msg, UserWarning)\n",
            "/usr/local/lib/python3.7/dist-packages/seaborn/distributions.py:2619: FutureWarning: `distplot` is a deprecated function and will be removed in a future version. Please adapt your code to use either `displot` (a figure-level function with similar flexibility) or `histplot` (an axes-level function for histograms).\n",
            "  warnings.warn(msg, FutureWarning)\n",
            "/usr/local/lib/python3.7/dist-packages/seaborn/distributions.py:2619: FutureWarning: `distplot` is a deprecated function and will be removed in a future version. Please adapt your code to use either `displot` (a figure-level function with similar flexibility) or `histplot` (an axes-level function for histograms).\n",
            "  warnings.warn(msg, FutureWarning)\n",
            "/usr/local/lib/python3.7/dist-packages/seaborn/distributions.py:2619: FutureWarning: `distplot` is a deprecated function and will be removed in a future version. Please adapt your code to use either `displot` (a figure-level function with similar flexibility) or `histplot` (an axes-level function for histograms).\n",
            "  warnings.warn(msg, FutureWarning)\n",
            "/usr/local/lib/python3.7/dist-packages/seaborn/distributions.py:2619: FutureWarning: `distplot` is a deprecated function and will be removed in a future version. Please adapt your code to use either `displot` (a figure-level function with similar flexibility) or `histplot` (an axes-level function for histograms).\n",
            "  warnings.warn(msg, FutureWarning)\n",
            "/usr/local/lib/python3.7/dist-packages/seaborn/distributions.py:2619: FutureWarning: `distplot` is a deprecated function and will be removed in a future version. Please adapt your code to use either `displot` (a figure-level function with similar flexibility) or `histplot` (an axes-level function for histograms).\n",
            "  warnings.warn(msg, FutureWarning)\n"
          ]
        }
      ]
    }
  ]
}